{
 "cells": [
  {
   "cell_type": "code",
   "execution_count": 1,
   "id": "c3e33f5b",
   "metadata": {},
   "outputs": [],
   "source": [
    "# Packages that may need to be installed to run\n",
    "#pip install opencv-python"
   ]
  },
  {
   "cell_type": "code",
   "execution_count": 2,
   "id": "00149a7b",
   "metadata": {},
   "outputs": [],
   "source": [
    "import numpy as np \n",
    "import cv2\n",
    "import os\n",
    "import pandas as pd\n",
    "import glob\n",
    "import matplotlib.pyplot as plt       \n",
    "%matplotlib inline\n",
    "\n",
    "from sklearn.svm import SVC\n",
    "from sklearn.metrics import confusion_matrix, accuracy_score, classification_report\n",
    "from sklearn.model_selection import train_test_split, GridSearchCV\n",
    "from sklearn.preprocessing import StandardScaler\n",
    "from sklearn.model_selection import cross_val_score\n",
    "from sklearn.model_selection import KFold"
   ]
  },
  {
   "cell_type": "code",
   "execution_count": 5,
   "id": "dcf4a90a",
   "metadata": {},
   "outputs": [],
   "source": [
    "# Data Cleaning\n",
    "# Data source cite: https://github.com/gabrieldgf4/PlantVillage-Dataset\n",
    "# Repost from the plantvillage.org repository that is no longer available\n",
    "\n",
    "# Setting filters for the images hsv colors\n",
    "low_val = (0,60,0)\n",
    "high_val = (179,255,255)\n",
    "\n",
    "\n",
    "#cleaning the images\n",
    "def cleaning_image(images):\n",
    "    clean_image = []\n",
    "    for image in images:\n",
    "        gray_scale = cv2.cvtColor(image, cv2.COLOR_BGR2HSV)\n",
    "        mask = cv2.inRange(gray_scale, low_val,high_val)\n",
    "        mask = cv2.morphologyEx(mask, cv2.MORPH_CLOSE, kernel=np.ones((8,8),dtype=np.uint8))\n",
    "        clean_image.append(cv2.bitwise_and(image, image,mask=mask))\n",
    "    return clean_image\n",
    "\n",
    "# Getting healthy leaf images (#1000)\n",
    "Toma_healthy = [cv2.imread(file) for file in glob.glob('TomatoDataset\\\\Tomato_healthy\\\\*.JPG')]\n",
    "Toma_healthy_cleaned = cleaning_image(Toma_healthy)\n",
    "\n",
    "# Getting moldy leaf images (# 952)\n",
    "Toma_mold  = [cv2.imread(file) for file in glob.glob('TomatoDataset\\\\Tomato_leaf_mold\\\\*.JPG')]\n",
    "Toma_mold_cleaned = cleaning_image(Toma_mold)\n",
    "\n",
    "# Getting bacterial spot images (# 1000)\n",
    "Toma_bact_spot  = [cv2.imread(file) for file in glob.glob('TomatoDataset\\\\Tomato_bacterial_spot\\\\*.JPG')]\n",
    "Toma_bact_spot_clean = cleaning_image(Toma_bact_spot)"
   ]
  },
  {
   "cell_type": "code",
   "execution_count": null,
   "id": "d37e200e",
   "metadata": {},
   "outputs": [],
   "source": [
    "# Image Checker\n",
    "# cv2.imshow(\"Image\", Toma_bact_spot_clean[88])\n",
    "# cv2.waitKey(0)\n",
    "# cv2.destroyAllWindows()"
   ]
  },
  {
   "cell_type": "code",
   "execution_count": 6,
   "id": "861e97b5",
   "metadata": {},
   "outputs": [],
   "source": [
    "# Feature gathering code\n",
    "# Takes in image list and label, returns pandas datafram of features",
    "\n",
    "def feature_gathering(images, label):\n",
    "    red_mean = []\n",
    "    blue_mean = []\n",
    "    green_mean = []\n",
    "    contrast = [] # not used yet. Need to download a package to get this feature\n",
    "    labels = [label]*len(images)\n",
    "    for image in images:\n",
    "        red_mean.append(np.mean(image[:,:,0]))\n",
    "        blue_mean.append(np.mean(image[:,:,1]))\n",
    "        green_mean.append(np.mean(image[:,:,2]))\n",
    "        \n",
    "    return pd.DataFrame({\"label\":labels, \"RedMean\":red_mean, \"BlueMean\":blue_mean, \"GreenMean\": green_mean})"
   ]
  },
  {
   "cell_type": "code",
   "execution_count": 7,
   "id": "8e372b62",
   "metadata": {},
   "outputs": [],
   "source": [
    "# uncleaned images\n",
    "Toma_healthy_df = feature_gathering(Toma_healthy, 1)\n",
    "Toma_mold_df = feature_gathering(Toma_mold, 2)\n",
    "Toma_bact_spot_df = feature_gathering(Toma_bact_spot, 3)\n",
    "\n",
    "uncleaned_leaves_df = pd.concat([Toma_healthy_df,Toma_mold_df,Toma_bact_spot_df], axis =0)\n",
    "unclean_X = uncleaned_leaves_df.drop(columns= [\"label\"], axis = 1)\n",
    "unclean_y = uncleaned_leaves_df[\"label\"]"
   ]
  },
  {
   "cell_type": "code",
   "execution_count": 8,
   "id": "6969a5bb",
   "metadata": {},
   "outputs": [],
   "source": [
    "# cleaned images\n",
    "Toma_healthy_df = feature_gathering(Toma_healthy_cleaned, 1)\n",
    "Toma_mold_df  = feature_gathering(Toma_mold_cleaned, 2)\n",
    "Toma_bact_spot_df = feature_gathering(Toma_bact_spot, 3)\n",
    "\n",
    "cleaned_leaves_df = pd.concat([Toma_healthy_df,Toma_mold_df,Toma_bact_spot_df], axis =0)\n",
    "clean_X = cleaned_leaves_df.drop(columns= [\"label\"], axis = 1)\n",
    "clean_y = cleaned_leaves_df[\"label\"]\n"
   ]
  },
  {
   "cell_type": "code",
   "execution_count": 9,
   "id": "932feec6",
   "metadata": {},
   "outputs": [],
   "source": [
    "# SVM Model Maker\n",
    "Leaf_svm = SVC(kernel='rbf', C = 100,)"
   ]
  },
  {
   "cell_type": "code",
   "execution_count": 13,
   "id": "5fa690b1",
   "metadata": {},
   "outputs": [
    {
     "name": "stdout",
     "output_type": "stream",
     "text": [
      "The unclean Cross Val score =  0.8065758131012368\n"
     ]
    }
   ],
   "source": [
    "# Cross_val_score unclean\n",
    "kf = KFold(n_splits= 10, shuffle = True)\n",
    "scores = cross_val_score(Leaf_svm, unclean_X, unclean_y, cv=kf)\n",
    "print(\"The unclean Cross Val score = \",np.average(np.absolute(scores)))"
   ]
  },
  {
   "cell_type": "code",
   "execution_count": 14,
   "id": "e4cf2b26",
   "metadata": {},
   "outputs": [
    {
     "name": "stdout",
     "output_type": "stream",
     "text": [
      "The clean Cross Val score =  0.9481630783325696\n"
     ]
    }
   ],
   "source": [
    "# Cross_val_score clean\n",
    "kf = KFold(n_splits= 10, shuffle = True)\n",
    "scores = cross_val_score(Leaf_svm, clean_X, clean_y, cv=kf)\n",
    "print(\"The clean Cross Val score = \",np.average(np.absolute(scores)))"
   ]
  },
  {
   "cell_type": "code",
   "execution_count": null,
   "id": "53009175",
   "metadata": {},
   "outputs": [],
   "source": []
  }
 ],
 "metadata": {
  "kernelspec": {
   "display_name": "Python 3",
   "language": "python",
   "name": "python3"
  },
  "language_info": {
   "codemirror_mode": {
    "name": "ipython",
    "version": 3
   },
   "file_extension": ".py",
   "mimetype": "text/x-python",
   "name": "python",
   "nbconvert_exporter": "python",
   "pygments_lexer": "ipython3",
   "version": "3.8.8"
  }
 },
 "nbformat": 4,
 "nbformat_minor": 5
}
