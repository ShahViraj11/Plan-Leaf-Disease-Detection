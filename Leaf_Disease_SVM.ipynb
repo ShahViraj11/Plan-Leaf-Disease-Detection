{
 "cells": [
  {
   "cell_type": "code",
   "execution_count": 1,
   "id": "c3e33f5b",
   "metadata": {},
   "outputs": [],
   "source": [
    "# Packages that may need to be installed to run\n",
    "#pip install opencv-python"
   ]
  },
  {
   "cell_type": "code",
   "execution_count": 2,
   "id": "00149a7b",
   "metadata": {},
   "outputs": [],
   "source": [
    "import numpy as np \n",
    "import cv2\n",
    "import os\n",
    "import pandas as pd\n",
    "import glob\n",
    "import matplotlib.pyplot as plt       \n",
    "%matplotlib inline\n",
    "\n",
    "from sklearn.svm import SVC\n",
    "from sklearn.metrics import confusion_matrix, accuracy_score, classification_report\n",
    "from sklearn.model_selection import train_test_split, GridSearchCV\n",
    "from sklearn.preprocessing import StandardScaler\n",
    "from sklearn.model_selection import cross_val_score\n",
    "from sklearn.model_selection import KFold"
   ]
  },
  {
   "cell_type": "code",
   "execution_count": 3,
<<<<<<< HEAD
   "id": "66781809",
=======
   "id": "c52d6b61",
>>>>>>> 96f0b9e77f8bac83aa4194d2db43a5bb2222efbd
   "metadata": {},
   "outputs": [],
   "source": [
    "# Data Cleaning\n",
    "# Data source cite: https://github.com/gabrieldgf4/PlantVillage-Dataset\n",
    "# Repost from the plantvillage.org repository that is no longer available\n",
    "\n",
    "# Setting filters for the images hsv colors\n",
    "low_hsv = (0,60,0)\n",
    "high_hsv = (179,255,255)\n",
    "\n",
    "#cleaning the images\n",
    "def cleaning_image(images):\n",
    "    clean_image= []\n",
    "    for image in images:\n",
    "        gray_scale = cv2.cvtColor(image, cv2.COLOR_BGR2HSV)\n",
    "        mask = cv2.inRange(gray_scale, low_hsv,high_hsv)\n",
    "        mask = cv2.morphologyEx(mask, cv2.MORPH_CLOSE, kernel=np.ones((8,8),dtype=np.uint8))\n",
    "        clean_image.append(cv2.bitwise_and(image, image,mask=mask))\n",
    "    return clean_image"
   ]
  },
  {
   "cell_type": "code",
   "execution_count": 4,
<<<<<<< HEAD
   "id": "d5e1588f",
=======
   "id": "790927f7",
>>>>>>> 96f0b9e77f8bac83aa4194d2db43a5bb2222efbd
   "metadata": {},
   "outputs": [
    {
     "name": "stdout",
     "output_type": "stream",
     "text": [
      "Getting PotatoDataset\n",
      "\tGetting potato_early_blight :\tload 1000 images\n",
      "\tGetting potato_healthy :\tload 152 images\n",
      "\tGetting potato_late_blight :\tload 1000 images\n",
      "Getting TomatoDataset\n",
      "\tGetting Tomato_bacterial_spot :\tload 1000 images\n",
      "\tGetting Tomato_healthy :\tload 1000 images\n",
      "\tGetting Tomato_leaf_mold :\tload 952 images\n",
      "\tGetting Tomato_septoria_leaf_spot :\tload 1000 images\n",
      "Complete\n"
     ]
    }
   ],
   "source": [
    "def get_images():\n",
    "    leaf_images = {}\n",
    "    clean_leaf_images = {}\n",
    "    count = 1\n",
    "    PlantDataset = glob.glob('LeavesDataset\\\\*')\n",
    "    \n",
    "    for plant in PlantDataset:\n",
    "        print(\"Getting\",plant.split(\"\\\\\")[1])\n",
    "        LeavesDataset = glob.glob(plant+'\\\\*')\n",
    "        \n",
    "        for leaves in LeavesDataset:\n",
    "            leaves_name = leaves.split(\"\\\\\")[2]\n",
    "            print(\"\\tGetting\",leaves_name,\":\", end=\"\\t\")\n",
    "            \n",
    "            leaf_images[leaves_name] = [cv2.imread(file) for file in glob.glob(leaves+'\\\\*.JPG')]\n",
    "            clean_leaf_images[leaves_name] = cleaning_image(leaf_images[leaves_name])\n",
    "            print(\"load\",len(leaf_images[leaves_name]),\"images\")\n",
    "            \n",
    "    print(\"Complete\")\n",
    "    return leaf_images, clean_leaf_images\n",
    "\n",
    "\n",
    "leaf_images,clean_images = get_images()"
   ]
  },
  {
   "cell_type": "code",
   "execution_count": 5,
<<<<<<< HEAD
   "id": "f7499e01",
=======
   "id": "a594c329",
>>>>>>> 96f0b9e77f8bac83aa4194d2db43a5bb2222efbd
   "metadata": {},
   "outputs": [],
   "source": [
    "# Image Checker\n",
    "# cv2.imshow(\"Image\", clean_images[\"Tomato_septoria_leaf_spot\" ][9])\n",
    "# cv2.waitKey(0)\n",
    "# cv2.destroyAllWindows()"
   ]
  },
  {
   "cell_type": "code",
   "execution_count": 6,
   "id": "4f271eb8",
   "metadata": {},
   "outputs": [
    {
     "data": {
      "text/plain": [
       "dict_keys(['potato_early_blight', 'potato_healthy', 'potato_late_blight', 'Tomato_bacterial_spot', 'Tomato_healthy', 'Tomato_leaf_mold', 'Tomato_septoria_leaf_spot'])"
      ]
     },
     "execution_count": 6,
     "metadata": {},
     "output_type": "execute_result"
    }
   ],
   "source": [
    "leaf_images.keys()"
   ]
  },
  {
   "cell_type": "code",
   "execution_count": 7,
   "id": "861e97b5",
   "metadata": {},
   "outputs": [],
   "source": [
    "# Feature gathering code\n",
    "\n",
    "def feature_gathering(images, label):\n",
    "    # Features to collect\n",
    "    red_mean = []\n",
    "    blue_mean = []\n",
    "    green_mean = []\n",
    "    contrast = [] # not used yet. Need to download a package to get this feature\n",
    "    # Target Variables\n",
    "    labels = [label]*len(images)\n",
    "    isDiseased = [label.find('healthy') == -1]*len(images)\n",
    "    \n",
    "    for image in images:\n",
    "        red_mean.append(np.mean(image[:,:,0]))\n",
    "        blue_mean.append(np.mean(image[:,:,1]))\n",
    "        green_mean.append(np.mean(image[:,:,2]))\n",
    "        \n",
    "    return pd.DataFrame({\"label\":labels, \"isDiseased\":isDiseased,\n",
    "                         \"RedMean\":red_mean, \"BlueMean\":blue_mean, \"GreenMean\": green_mean}) #Feature variables"
   ]
  },
  {
   "cell_type": "code",
<<<<<<< HEAD
   "execution_count": 8,
   "id": "97c611bf",
=======
   "execution_count": 7,
   "id": "a110c27c",
>>>>>>> 96f0b9e77f8bac83aa4194d2db43a5bb2222efbd
   "metadata": {},
   "outputs": [
    {
     "name": "stdout",
     "output_type": "stream",
     "text": [
      "Collecting features for potato_early_blight\n",
      "Collecting features for potato_healthy\n",
      "Collecting features for potato_late_blight\n",
      "Collecting features for Tomato_bacterial_spot\n",
      "Collecting features for Tomato_healthy\n",
      "Collecting features for Tomato_leaf_mold\n",
      "Collecting features for Tomato_septoria_leaf_spot\n"
     ]
    }
   ],
   "source": [
    "# uncleaned images\n",
    "uncleaned_leaves_df = pd.DataFrame()\n",
    "\n",
    "for key in leaf_images.keys():\n",
    "    print(\"Collecting features for\",key)\n",
    "    leaf_df = feature_gathering(leaf_images[key],key)\n",
    "    uncleaned_leaves_df = pd.concat([uncleaned_leaves_df, leaf_df], axis = 0)\n",
    "    \n",
<<<<<<< HEAD
    "unclean_X = uncleaned_leaves_df.drop(columns= [\"label\"], axis = 1)\n",
    "unclean_y = uncleaned_leaves_df[\"label\"]"
=======
    "unclean_X = uncleaned_leaves_df.drop(columns= [\"label\",'isDiseased'], axis = 1)\n",
    "unclean_y = uncleaned_leaves_df[[\"label\",\"isDiseased\"]]"
>>>>>>> 96f0b9e77f8bac83aa4194d2db43a5bb2222efbd
   ]
  },
  {
   "cell_type": "code",
<<<<<<< HEAD
   "execution_count": 9,
   "id": "8aff1859",
   "metadata": {},
   "outputs": [
    {
     "name": "stdout",
     "output_type": "stream",
     "text": [
      "Collecting features for potato_early_blight\n",
      "Collecting features for potato_healthy\n",
      "Collecting features for potato_late_blight\n",
      "Collecting features for Tomato_bacterial_spot\n",
      "Collecting features for Tomato_healthy\n",
      "Collecting features for Tomato_leaf_mold\n",
      "Collecting features for Tomato_septoria_leaf_spot\n"
     ]
    }
   ],
   "source": [
    "# cleaned images\n",
    "cleaned_leaves_df = pd.DataFrame()\n",
    "\n",
    "for key in clean_images.keys():\n",
    "    print(\"Collecting features for\",key)\n",
    "    leaf_df = feature_gathering(clean_images[key],key)\n",
    "    cleaned_leaves_df = pd.concat([cleaned_leaves_df, leaf_df], axis = 0)\n",
    "    \n",
    "clean_X = cleaned_leaves_df.drop(columns= [\"label\"], axis = 1)\n",
    "clean_y = cleaned_leaves_df[\"label\"]"
=======
   "execution_count": 8,
   "id": "414b0ef8",
   "metadata": {},
   "outputs": [
    {
     "data": {
      "text/html": [
       "<div>\n",
       "<style scoped>\n",
       "    .dataframe tbody tr th:only-of-type {\n",
       "        vertical-align: middle;\n",
       "    }\n",
       "\n",
       "    .dataframe tbody tr th {\n",
       "        vertical-align: top;\n",
       "    }\n",
       "\n",
       "    .dataframe thead th {\n",
       "        text-align: right;\n",
       "    }\n",
       "</style>\n",
       "<table border=\"1\" class=\"dataframe\">\n",
       "  <thead>\n",
       "    <tr style=\"text-align: right;\">\n",
       "      <th></th>\n",
       "      <th>label</th>\n",
       "      <th>isDiseased</th>\n",
       "      <th>RedMean</th>\n",
       "      <th>BlueMean</th>\n",
       "      <th>GreenMean</th>\n",
       "    </tr>\n",
       "  </thead>\n",
       "  <tbody>\n",
       "    <tr>\n",
       "      <th>0</th>\n",
       "      <td>potato_early_blight</td>\n",
       "      <td>True</td>\n",
       "      <td>98.035309</td>\n",
       "      <td>121.584213</td>\n",
       "      <td>119.126999</td>\n",
       "    </tr>\n",
       "    <tr>\n",
       "      <th>1</th>\n",
       "      <td>potato_early_blight</td>\n",
       "      <td>True</td>\n",
       "      <td>123.919739</td>\n",
       "      <td>146.974365</td>\n",
       "      <td>143.345734</td>\n",
       "    </tr>\n",
       "    <tr>\n",
       "      <th>2</th>\n",
       "      <td>potato_early_blight</td>\n",
       "      <td>True</td>\n",
       "      <td>128.904846</td>\n",
       "      <td>144.921799</td>\n",
       "      <td>136.503860</td>\n",
       "    </tr>\n",
       "    <tr>\n",
       "      <th>3</th>\n",
       "      <td>potato_early_blight</td>\n",
       "      <td>True</td>\n",
       "      <td>128.710266</td>\n",
       "      <td>128.540268</td>\n",
       "      <td>108.445770</td>\n",
       "    </tr>\n",
       "    <tr>\n",
       "      <th>4</th>\n",
       "      <td>potato_early_blight</td>\n",
       "      <td>True</td>\n",
       "      <td>130.400299</td>\n",
       "      <td>144.881912</td>\n",
       "      <td>136.750015</td>\n",
       "    </tr>\n",
       "  </tbody>\n",
       "</table>\n",
       "</div>"
      ],
      "text/plain": [
       "                 label  isDiseased     RedMean    BlueMean   GreenMean\n",
       "0  potato_early_blight        True   98.035309  121.584213  119.126999\n",
       "1  potato_early_blight        True  123.919739  146.974365  143.345734\n",
       "2  potato_early_blight        True  128.904846  144.921799  136.503860\n",
       "3  potato_early_blight        True  128.710266  128.540268  108.445770\n",
       "4  potato_early_blight        True  130.400299  144.881912  136.750015"
      ]
     },
     "execution_count": 8,
     "metadata": {},
     "output_type": "execute_result"
    }
   ],
   "source": [
    "uncleaned_leaves_df.head()"
>>>>>>> 96f0b9e77f8bac83aa4194d2db43a5bb2222efbd
   ]
  },
  {
   "cell_type": "code",
<<<<<<< HEAD
=======
   "execution_count": 9,
   "id": "97f8bc59",
   "metadata": {},
   "outputs": [
    {
     "name": "stdout",
     "output_type": "stream",
     "text": [
      "Collecting features for potato_early_blight\n",
      "Collecting features for potato_healthy\n",
      "Collecting features for potato_late_blight\n",
      "Collecting features for Tomato_bacterial_spot\n",
      "Collecting features for Tomato_healthy\n",
      "Collecting features for Tomato_leaf_mold\n",
      "Collecting features for Tomato_septoria_leaf_spot\n"
     ]
    }
   ],
   "source": [
    "# cleaned images\n",
    "cleaned_leaves_df = pd.DataFrame()\n",
    "\n",
    "for key in clean_images.keys():\n",
    "    print(\"Collecting features for\",key)\n",
    "    leaf_df = feature_gathering(clean_images[key],key)\n",
    "    cleaned_leaves_df = pd.concat([cleaned_leaves_df, leaf_df], axis = 0)\n",
    "    \n",
    "clean_X = cleaned_leaves_df.drop(columns= [\"label\",'isDiseased'], axis = 1)\n",
    "clean_y = cleaned_leaves_df[[\"label\",'isDiseased']]"
   ]
  },
  {
   "cell_type": "code",
>>>>>>> 96f0b9e77f8bac83aa4194d2db43a5bb2222efbd
   "execution_count": 10,
   "id": "932feec6",
   "metadata": {},
   "outputs": [],
   "source": [
    "# SVM Model Maker\n",
    "Leaf_svm = SVC(kernel='rbf', C = 100)\n",
    "kf = KFold(n_splits= 5, shuffle = True)"
   ]
  },
  {
   "cell_type": "code",
   "execution_count": 11,
<<<<<<< HEAD
   "id": "e11aee62",
=======
   "id": "faa0d444",
>>>>>>> 96f0b9e77f8bac83aa4194d2db43a5bb2222efbd
   "metadata": {},
   "outputs": [
    {
     "name": "stdout",
     "output_type": "stream",
     "text": [
<<<<<<< HEAD
      "The unclean Cross Val score =  0.5935488717769848\n"
=======
      "The binary SVM unclean image Cross Val score =  0.8463302050187297\n",
      "The binary SVM cleaned image Cross Val score =  0.86648165303903\n"
>>>>>>> 96f0b9e77f8bac83aa4194d2db43a5bb2222efbd
     ]
    }
   ],
   "source": [
    "# Cross_val_score unclean\n",
    "scores = cross_val_score(Leaf_svm, unclean_X, unclean_y['isDiseased'], cv=kf)\n",
    "print(\"The binary SVM unclean image Cross Val score = \",np.average(np.absolute(scores)))\n",
    "\n",
    "# Cross_val_score clean\n",
    "scores = cross_val_score(Leaf_svm, clean_X, clean_y['isDiseased'], cv=kf)\n",
    "print(\"The binary SVM cleaned image Cross Val score = \",np.average(np.absolute(scores)))"
   ]
  },
  {
   "cell_type": "code",
   "execution_count": 12,
<<<<<<< HEAD
   "id": "ae6d7288",
=======
   "id": "804fc3fa",
>>>>>>> 96f0b9e77f8bac83aa4194d2db43a5bb2222efbd
   "metadata": {},
   "outputs": [
    {
     "name": "stdout",
     "output_type": "stream",
     "text": [
<<<<<<< HEAD
      "The clean Cross Val score =  0.6394191194226073\n"
=======
      "The disease classification SVM unclean Cross Val score =  0.5963306078060178\n",
      "The disease classification SVM clean Cross Val score =  0.6392513526939757\n"
>>>>>>> 96f0b9e77f8bac83aa4194d2db43a5bb2222efbd
     ]
    }
   ],
   "source": [
    "# Cross_val_score unclean\n",
    "scores = cross_val_score(Leaf_svm, unclean_X, unclean_y['label'], cv=kf)\n",
    "print(\"The disease classification SVM unclean Cross Val score = \",np.average(np.absolute(scores)))\n",
    "\n",
    "# Cross_val_score clean\n",
    "scores = cross_val_score(Leaf_svm, clean_X, clean_y['label'], cv=kf)\n",
    "print(\"The disease classification SVM clean Cross Val score = \",np.average(np.absolute(scores)))"
   ]
  },
  {
   "cell_type": "code",
   "execution_count": null,
<<<<<<< HEAD
   "id": "e715bd05",
=======
   "id": "a629ab5e",
>>>>>>> 96f0b9e77f8bac83aa4194d2db43a5bb2222efbd
   "metadata": {},
   "outputs": [],
   "source": []
  }
 ],
 "metadata": {
  "kernelspec": {
   "display_name": "Python 3",
   "language": "python",
   "name": "python3"
  },
  "language_info": {
   "codemirror_mode": {
    "name": "ipython",
    "version": 3
   },
   "file_extension": ".py",
   "mimetype": "text/x-python",
   "name": "python",
   "nbconvert_exporter": "python",
   "pygments_lexer": "ipython3",
   "version": "3.8.8"
  }
 },
 "nbformat": 4,
 "nbformat_minor": 5
}
