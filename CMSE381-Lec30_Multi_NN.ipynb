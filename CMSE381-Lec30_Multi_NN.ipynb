{
 "cells": [
  {
   "cell_type": "markdown",
   "id": "4dfd68f5",
   "metadata": {},
   "source": [
    "# Jupyter Notebook\n",
    "# Lecture 31: Multi-Layer Neural Nets\n",
    "\n",
    "<img src=\"https://upload.wikimedia.org/wikipedia/commons/3/30/Multilayer_Neural_Network.png\" alt=\"Multilayer Neural Net\" width=\"400\"/>"
   ]
  },
  {
   "cell_type": "code",
   "execution_count": 1,
   "id": "4ea3a4b4",
   "metadata": {},
   "outputs": [],
   "source": [
    "# Everyone's favorite standard imports\n",
    "import numpy as np\n",
    "import pandas as pd\n",
    "import matplotlib as mpl\n",
    "import matplotlib.pyplot as plt\n",
    "%matplotlib inline\n",
    "import time\n",
    "\n",
    "from sklearn.model_selection import train_test_split\n"
   ]
  },
  {
   "cell_type": "markdown",
   "id": "ad974880",
   "metadata": {},
   "source": [
    "Today we are going to build some basic neural nets using [pytorch](https://pytorch.org/).\n",
    "\n",
    "This lecture makes use of many helpful available tutorials, including those listed below:\n",
    "\n",
    "- https://pytorch.org/tutorials/beginner/basics/quickstart_tutorial.html\n",
    "- https://pythonprogramming.net/data-deep-learning-neural-network-pytorch/?completed=/introduction-deep-learning-neural-network-pytorch/\n",
    "- https://towardsdatascience.com/building-neural-network-using-pytorch-84f6e75f9a\n",
    "- https://github.com/amitrajitbose/handwritten-digit-recognition/\n",
    "\n",
    "\n",
    "\n",
    "# Get up and running\n",
    "\n",
    "Your first job is to get `pytorch` running on your machine. \n",
    "\n",
    "## If you're on jupyterhub......\n",
    "\n",
    "This year, it would seem that all the necessary requirements are already installed. If you are having issues, please talk to Dr. Munch first! **DO NOT** try to run `pip install torch` as this will cause major issues with the amount of space you have on JupyterHub.\n",
    "<!-- You need to switch your kernel environment to `conda_pytorch`. See the figure below. Then `torch` should already be installed, no more work to be done.  -->\n",
    "\n",
    "<!-- <img src=\"https://imgur.com/lV60kph.png\" alt=\"Jupyter hub switching to pytorch environment\" width=\"400\"/> -->\n",
    "\n",
    "## If you're on a local machine......\n",
    "Your first job is to install pytorch.\n",
    "```bash\n",
    "pip install torch\n",
    "```\n",
    "\n",
    "We will also be using some example data sets found in the following package. \n",
    "```bash\n",
    "pip install torchvision\n",
    "```\n",
    "\n",
    "## Either way.....\n",
    "If all goes well, the imports below should work. "
   ]
  },
  {
   "cell_type": "code",
   "execution_count": 2,
   "id": "06375e3e",
   "metadata": {},
   "outputs": [],
   "source": [
    "#pip install torch"
   ]
  },
  {
   "cell_type": "code",
   "execution_count": 3,
   "id": "47f6feac",
   "metadata": {},
   "outputs": [],
   "source": [
    "#pip install torchvision"
   ]
  },
  {
   "cell_type": "code",
   "execution_count": 4,
   "id": "b1fd55da",
   "metadata": {},
   "outputs": [],
   "source": [
    "import torch\n",
    "from torch import nn\n",
    "import torch.optim as optim\n",
    "# import torch.trainloader\n",
    "import torch\n",
    "import numpy as np\n",
    "from torch.utils.data import TensorDataset, DataLoader"
   ]
  },
  {
   "cell_type": "markdown",
   "id": "a2730cdd",
   "metadata": {},
   "source": [
    "Our first job is to build our chosen architecture. One of the simplest ways to do this is with the `nn.Sequential` class.  All we need to do is to pass information about what we want to do at each step. The following code builds a neural network with:\n",
    "- Input of two variables $(X_1,X_2)$, so $p=2$\n",
    "- A first hidden layer with 5 units, where we take linear combinations of the inputs and then use the ReLU activation function. \n",
    "- A second hidden layer with 3 units, this time using the Sigmoid activation function\n",
    "- A final output layer"
   ]
  },
  {
   "cell_type": "code",
   "execution_count": 5,
   "id": "4b80a56e",
   "metadata": {},
   "outputs": [
    {
     "name": "stdout",
     "output_type": "stream",
     "text": [
      "Sequential(\n",
      "  (0): Linear(in_features=2, out_features=5, bias=True)\n",
      "  (1): ReLU()\n",
      "  (2): Linear(in_features=5, out_features=3, bias=True)\n",
      "  (3): Sigmoid()\n",
      "  (4): Linear(in_features=3, out_features=1, bias=True)\n",
      ")\n"
     ]
    }
   ],
   "source": [
    "# Hyperparameters for our network\n",
    "input_size = 2\n",
    "hidden_sizes = [5,3]\n",
    "output_size = 1\n",
    "\n",
    "# Build a feed-forward network\n",
    "model = nn.Sequential(nn.Linear(input_size, hidden_sizes[0]),\n",
    "                      nn.ReLU(),\n",
    "                      nn.Linear(hidden_sizes[0], hidden_sizes[1]),\n",
    "                      nn.Sigmoid(),\n",
    "                      nn.Linear(hidden_sizes[1], output_size))\n",
    "print(model)"
   ]
  },
  {
   "cell_type": "markdown",
   "id": "33c34267",
   "metadata": {},
   "source": [
    "Note at this point that we haven't trained anything or used data in any way.  This is only the setup. This is like when we were doing linear regression, and we have `linreg = LinearRegression()` but we hadn't done `linreg.fit(X,y)` yet. "
   ]
  },
  {
   "cell_type": "markdown",
   "id": "af506f8f",
   "metadata": {},
   "source": [
    "\n",
    "&#9989; **<font color=red>Do this:</font>** Write code to build an architecture with the following specifications:\n",
    "- $p=20$ input variables\n",
    "- Three hidden layers, with 10, 5, and 3 units respectively.\n",
    "- Use the ReLU activation function at every step.\n",
    "\n",
    "Note you're not training the model, just setting up the architecture."
   ]
  },
  {
   "cell_type": "code",
   "execution_count": 6,
   "id": "104e81e2",
   "metadata": {},
   "outputs": [
    {
     "name": "stdout",
     "output_type": "stream",
     "text": [
      "Sequential(\n",
      "  (0): Linear(in_features=20, out_features=10, bias=True)\n",
      "  (1): ReLU()\n",
      "  (2): Linear(in_features=10, out_features=5, bias=True)\n",
      "  (3): ReLU()\n",
      "  (4): Linear(in_features=5, out_features=3, bias=True)\n",
      "  (5): ReLU()\n",
      "  (6): Linear(in_features=3, out_features=1, bias=True)\n",
      ")\n"
     ]
    }
   ],
   "source": [
    "input_size = 20\n",
    "hidden_sizes = [10,5,3]\n",
    "output_size = 1\n",
    "\n",
    "# Build a feed-forward network\n",
    "model_2 = nn.Sequential(nn.Linear(input_size, hidden_sizes[0]),\n",
    "                      nn.ReLU(),\n",
    "                      nn.Linear(hidden_sizes[0], hidden_sizes[1]),\n",
    "                      nn.ReLU(),\n",
    "                      nn.Linear(hidden_sizes[1], hidden_sizes[2]),\n",
    "                      nn.ReLU(),\n",
    "                      nn.Linear(hidden_sizes[2], output_size))\n",
    "print(model_2)"
   ]
  },
  {
   "cell_type": "markdown",
   "id": "358216f8",
   "metadata": {},
   "source": [
    "# Building the simple architecture from last class\n",
    "<img src=\"https://imgur.com/kO6zuGG.jpg\" alt=\"Example Neural Net from Class\" width=\"400\"/>"
   ]
  },
  {
   "cell_type": "markdown",
   "id": "fa610e97",
   "metadata": {},
   "source": [
    "&#9989; **<font color=red>Do this:</font>** Build the model for the example we used in the last class, with the picture included above. This model had two input variables, three hidden units in a single layer, and a single output. Use ReLU for your activation function. Save your model as `mySecondNN`. "
   ]
  },
  {
   "cell_type": "code",
   "execution_count": 7,
   "id": "1f661327",
   "metadata": {},
   "outputs": [
    {
     "name": "stdout",
     "output_type": "stream",
     "text": [
      "Sequential(\n",
      "  (0): Linear(in_features=2, out_features=3, bias=True)\n",
      "  (1): ReLU()\n",
      "  (2): Linear(in_features=3, out_features=1, bias=True)\n",
      ")\n"
     ]
    }
   ],
   "source": [
    "# Your code here.\n",
    "input_size = 2\n",
    "hidden_sizes = [3]\n",
    "output_size = 1\n",
    "\n",
    "# Build a feed-forward network\n",
    "mySecondNN = nn.Sequential(nn.Linear(input_size, hidden_sizes[0]),\n",
    "                      nn.ReLU(),\n",
    "                      nn.Linear(hidden_sizes[0], output_size))\n",
    "print(mySecondNN)"
   ]
  },
  {
   "cell_type": "markdown",
   "id": "988bd069",
   "metadata": {},
   "source": [
    "Here is our very simple data set to use. It's similar to the data set from last time, just with way more data points."
   ]
  },
  {
   "cell_type": "code",
   "execution_count": 8,
   "id": "c7a137ee",
   "metadata": {},
   "outputs": [
    {
     "data": {
      "image/png": "[encoded data removed]",
      "text/plain": [
       "<Figure size 432x288 with 2 Axes>"
      ]
     },
     "metadata": {
      "needs_background": "light"
     },
     "output_type": "display_data"
    },
    {
     "data": {
      "text/plain": [
       "(500, 3)"
      ]
     },
     "execution_count": 8,
     "metadata": {},
     "output_type": "execute_result"
    }
   ],
   "source": [
    "data = np.loadtxt('DataSets/DL-toy-data-bigger.csv')\n",
    "X = data[:,:2]\n",
    "y = data[:,2]\n",
    "\n",
    "plt.scatter(X[:,0],X[:,1], c= y)\n",
    "plt.colorbar()\n",
    "plt.show()\n",
    "\n",
    "data.shape"
   ]
  },
  {
   "cell_type": "markdown",
   "id": "9ae4eb59",
   "metadata": {},
   "source": [
    "In order to make `torch` play nice with this data set, I'm going to put it in a custom class. Don't worry too much about this, it's just to make some things easier later. "
   ]
  },
  {
   "cell_type": "code",
   "execution_count": 9,
   "id": "3aa33a10",
   "metadata": {},
   "outputs": [],
   "source": [
    "from torch.utils.data import Dataset\n",
    "\n",
    "class CustomDataset(Dataset):\n",
    "    def __init__(self, X, y):\n",
    "        self.X = X\n",
    "        self.y = y\n",
    "\n",
    "    def __len__(self):\n",
    "        return len(self.X)\n",
    "\n",
    "    def __getitem__(self, idx):\n",
    "        return self.X[idx], self.y[idx]\n",
    "\n",
    "DL_toy_torch = CustomDataset(X, y)"
   ]
  },
  {
   "cell_type": "markdown",
   "id": "fa9089a1",
   "metadata": {},
   "source": [
    "I'm going to build a train/test split before getting into the `pytorch` framework. I need to convert my input data to `pytorch`'s fancy `DataLoader` class. "
   ]
  },
  {
   "cell_type": "code",
   "execution_count": 10,
   "id": "2ef1eb94",
   "metadata": {},
   "outputs": [],
   "source": [
    "import torch\n",
    "from torch.utils.data import random_split\n",
    "\n",
    "# Split the dataset into 80% train, 20% test\n",
    "# Unlike sklearn, torch wants a length of the training size rather than the percentage\n",
    "train_size = int(0.8 * len(DL_toy_torch))\n",
    "test_size = len(data) - train_size\n",
    "train_dataset, test_dataset = random_split(DL_toy_torch, [train_size, test_size])\n",
    "\n",
    "# Create DataLoaders for the train and test sets\n",
    "trainloader = torch.utils.data.DataLoader(train_dataset, batch_size=64)\n",
    "testloader = torch.utils.data.DataLoader(test_dataset, batch_size=64)"
   ]
  },
  {
   "cell_type": "markdown",
   "id": "efc3e9b2",
   "metadata": {},
   "source": [
    "Essentially, the `trainloader` and `testloader` are now storing our data sets. The `batch_size` input is to allow for only loading in a subset of our data at a time. For our silly little data set, this doesn't particularly matter. However, for real data sets with gigabytes of data, the batch size makes it so that we don't overload the memory of the computer trying to read in the whole data set at once. \n",
    "\n",
    "Below, we can see that if we iterate over `trainloader`, we are handed 64 data points at a time, with their `X` and `y` information separated"
   ]
  },
  {
   "cell_type": "code",
   "execution_count": 11,
   "id": "724e1994",
   "metadata": {},
   "outputs": [
    {
     "name": "stdout",
     "output_type": "stream",
     "text": [
      "data_X is a subset of X with shape torch.Size([64, 2])\n",
      "data_X: \n",
      "tensor([[-4.7576, -0.8772],\n",
      "        [-0.0445,  1.6216],\n",
      "        [ 1.5189,  8.5859],\n",
      "        [-4.5934, -7.3703],\n",
      "        [ 1.4865,  3.0640],\n",
      "        [-2.7018, -4.7819],\n",
      "        [ 6.4199, -8.0580],\n",
      "        [ 4.7039,  9.2438],\n",
      "        [ 5.1856, -2.7091],\n",
      "        [-5.0116, -7.8819]], dtype=torch.float64)\n",
      "\n",
      "\n",
      "data_y is the matching labels of y with shape torch.Size([64])\n",
      "data_y: \n",
      "tensor([-3.0148,  0.6241,  1.0464, -2.4977,  2.2536, -2.0829, -0.0570,  1.0267,\n",
      "        -0.1456, -3.0834], dtype=torch.float64)\n",
      "---\n"
     ]
    }
   ],
   "source": [
    "for data_X, data_y in trainloader:\n",
    "    print(f\"data_X is a subset of X with shape {data_X.shape}\")\n",
    "    print(f\"data_X: \")\n",
    "    print(data_X[:10, :])\n",
    "    print(\"\\n\")\n",
    "    print(f\"data_y is the matching labels of y with shape {data_y.shape}\")\n",
    "    print(f\"data_y: \")\n",
    "    print(data_y[:10])\n",
    "    print('---')\n",
    "    break #<---- Comment to show a the entire output of the iteration"
   ]
  },
  {
   "cell_type": "markdown",
   "id": "7ecc5979",
   "metadata": {},
   "source": [
    "Now for the actual training of the model. We are not covering the inner workings of the training in class, so for the purposes of today you don't need to worry much about the specifics here.  However, the basic idea is that `epochs` gives us the number of times we're willing to update our coefficients to see if we're improving. \"Improving\" is measured by the loss function, in this case chosen to be `nn.MSELoss` which uses mean squared error. \n",
    "\n",
    "The code below will run over multiple epochs, and store the training loss at each step."
   ]
  },
  {
   "cell_type": "code",
   "execution_count": 12,
   "id": "45b93fab",
   "metadata": {},
   "outputs": [
    {
     "name": "stdout",
     "output_type": "stream",
     "text": [
      "Wall time: 0 ns\n"
     ]
    },
    {
     "name": "stderr",
     "output_type": "stream",
     "text": [
      "C:\\Users\\olivi\\anaconda3\\lib\\site-packages\\torch\\nn\\modules\\loss.py:538: UserWarning: Using a target size (torch.Size([64])) that is different to the input size (torch.Size([64, 1])). This will likely lead to incorrect results due to broadcasting. Please ensure they have the same size.\n",
      "  return F.mse_loss(input, target, reduction=self.reduction)\n",
      "C:\\Users\\olivi\\anaconda3\\lib\\site-packages\\torch\\nn\\modules\\loss.py:538: UserWarning: Using a target size (torch.Size([16])) that is different to the input size (torch.Size([16, 1])). This will likely lead to incorrect results due to broadcasting. Please ensure they have the same size.\n",
      "  return F.mse_loss(input, target, reduction=self.reduction)\n"
     ]
    },
    {
     "data": {
      "image/png": "[encoded data removed]",
      "text/plain": [
       "<Figure size 432x288 with 1 Axes>"
      ]
     },
     "metadata": {
      "needs_background": "light"
     },
     "output_type": "display_data"
    }
   ],
   "source": [
    "%time \n",
    "LossList = []\n",
    "\n",
    "criterion = nn.MSELoss()# Optimizers require the parameters to optimize and a learning rate\n",
    "optimizer = optim.SGD(mySecondNN.parameters(), lr=0.003)\n",
    "epochs = 300\n",
    "for e in range(epochs):\n",
    "    running_loss = 0\n",
    "    for data, target in trainloader:\n",
    "        data = data.float()\n",
    "        target = target.float()\n",
    "    \n",
    "        # Training pass\n",
    "        optimizer.zero_grad()\n",
    "        \n",
    "        # Forward pass\n",
    "        output = mySecondNN(data) #<--- note this line is using the model you set up at the beginning of this section\n",
    "\n",
    "        # Calculating the loss\n",
    "        # output = output.float()\n",
    "        # target = target.float()\n",
    "        loss = criterion(output, target)\n",
    "        loss.backward()\n",
    "        optimizer.step()\n",
    "        \n",
    "        running_loss += loss.item()\n",
    "    else:\n",
    "        LossList.append(running_loss/len(trainloader))\n",
    "        # print(f\"Training loss: {running_loss/len(trainloader)}\")\n",
    "\n",
    "plt.plot(LossList)\n",
    "plt.ylabel('Loss')\n",
    "plt.xlabel('Epoch')\n",
    "plt.show()"
   ]
  },
  {
   "cell_type": "markdown",
   "id": "f660d853",
   "metadata": {},
   "source": [
    "Note that the training loss appears to be improving over time.  Now we can then predict using our trained model on our test set to see how well we are really doing. The only reason this code is as complicated as it is is the batch loader, otherwise the main work is done with the `criterion(prediction, target)` command."
   ]
  },
  {
   "cell_type": "code",
   "execution_count": 13,
   "id": "03be6910",
   "metadata": {},
   "outputs": [
    {
     "name": "stderr",
     "output_type": "stream",
     "text": [
      "C:\\Users\\olivi\\anaconda3\\lib\\site-packages\\torch\\nn\\modules\\loss.py:538: UserWarning: Using a target size (torch.Size([100])) that is different to the input size (torch.Size([100, 1])). This will likely lead to incorrect results due to broadcasting. Please ensure they have the same size.\n",
      "  return F.mse_loss(input, target, reduction=self.reduction)\n"
     ]
    },
    {
     "data": {
      "text/plain": [
       "tensor(4.3837, grad_fn=<MseLossBackward0>)"
      ]
     },
     "execution_count": 13,
     "metadata": {},
     "output_type": "execute_result"
    }
   ],
   "source": [
    "Out_predict = []\n",
    "Out_target = []\n",
    "for data_X, data_y in testloader:\n",
    "    predict = mySecondNN(data_X.float())\n",
    "    Out_predict.append(predict)\n",
    "\n",
    "    y_test_tensor = data_y.float()\n",
    "    Out_target.append(y_test_tensor)\n",
    "\n",
    "all_predictions = torch.cat(Out_predict)\n",
    "all_targets = torch.cat(Out_target)\n",
    "\n",
    "criterion(all_predictions,all_targets)"
   ]
  },
  {
   "cell_type": "markdown",
   "id": "e9a5a1a1",
   "metadata": {},
   "source": [
    "Of course, this data set is very tiny, with not much to be done in terms of training, so lets go look at a bigger data set. "
   ]
  },
  {
   "cell_type": "markdown",
   "id": "4c653db1",
   "metadata": {},
   "source": [
    "# MNIST data set\n",
    "\n",
    "Now that we know the basics, we can build a neural net like discussed in class on the MNIST data set. The first time you run the commands below, it will save the MNIST data set into a folder called `MNIST` in the same place you're running this jupyter notebook. After that, it will just reload the data from that folder as long as it hasn't moved."
   ]
  },
  {
   "cell_type": "code",
   "execution_count": 14,
   "id": "a6830bf3",
   "metadata": {},
   "outputs": [],
   "source": [
    "from torchvision import transforms, datasets\n",
    "\n",
    "train = datasets.MNIST('', train=True, download=True,\n",
    "                       transform=transforms.Compose([\n",
    "                           transforms.ToTensor()\n",
    "                       ]))\n",
    "\n",
    "test = datasets.MNIST('', train=False, download=True,\n",
    "                       transform=transforms.Compose([\n",
    "                           transforms.ToTensor()\n",
    "                       ]))"
   ]
  },
  {
   "cell_type": "code",
   "execution_count": 15,
   "id": "23756186",
   "metadata": {},
   "outputs": [
    {
     "name": "stdout",
     "output_type": "stream",
     "text": [
      "---Train---\n",
      "\n",
      "Dataset MNIST\n",
      "    Number of datapoints: 60000\n",
      "    Root location: \n",
      "    Split: Train\n",
      "    StandardTransform\n",
      "Transform: Compose(\n",
      "               ToTensor()\n",
      "           )\n",
      "\n",
      "---Test---\n",
      "\n",
      "Dataset MNIST\n",
      "    Number of datapoints: 10000\n",
      "    Root location: \n",
      "    Split: Test\n",
      "    StandardTransform\n",
      "Transform: Compose(\n",
      "               ToTensor()\n",
      "           )\n"
     ]
    }
   ],
   "source": [
    "print('---Train---\\n')\n",
    "print(train)\n",
    "print('\\n---Test---\\n')\n",
    "\n",
    "print(test)"
   ]
  },
  {
   "cell_type": "markdown",
   "id": "3805fd95",
   "metadata": {},
   "source": [
    "As before, we are loading in our data set in batches to keep from crashing your memory. "
   ]
  },
  {
   "cell_type": "code",
   "execution_count": 16,
   "id": "291aac2e",
   "metadata": {},
   "outputs": [],
   "source": [
    "trainloader = torch.utils.data.DataLoader(train, batch_size=10, shuffle=True)\n",
    "testloader = torch.utils.data.DataLoader(test, batch_size=10, shuffle=False)"
   ]
  },
  {
   "cell_type": "markdown",
   "id": "c8803a60",
   "metadata": {},
   "source": [
    "Let's take a look at our data. The following code lets me spit out the first batch of data."
   ]
  },
  {
   "cell_type": "code",
   "execution_count": 17,
   "id": "e7e5d204",
   "metadata": {},
   "outputs": [
    {
     "name": "stdout",
     "output_type": "stream",
     "text": [
      "tensor([[[[0., 0., 0.,  ..., 0., 0., 0.],\n",
      "          [0., 0., 0.,  ..., 0., 0., 0.],\n",
      "          [0., 0., 0.,  ..., 0., 0., 0.],\n",
      "          ...,\n",
      "          [0., 0., 0.,  ..., 0., 0., 0.],\n",
      "          [0., 0., 0.,  ..., 0., 0., 0.],\n",
      "          [0., 0., 0.,  ..., 0., 0., 0.]]],\n",
      "\n",
      "\n",
      "        [[[0., 0., 0.,  ..., 0., 0., 0.],\n",
      "          [0., 0., 0.,  ..., 0., 0., 0.],\n",
      "          [0., 0., 0.,  ..., 0., 0., 0.],\n",
      "          ...,\n",
      "          [0., 0., 0.,  ..., 0., 0., 0.],\n",
      "          [0., 0., 0.,  ..., 0., 0., 0.],\n",
      "          [0., 0., 0.,  ..., 0., 0., 0.]]],\n",
      "\n",
      "\n",
      "        [[[0., 0., 0.,  ..., 0., 0., 0.],\n",
      "          [0., 0., 0.,  ..., 0., 0., 0.],\n",
      "          [0., 0., 0.,  ..., 0., 0., 0.],\n",
      "          ...,\n",
      "          [0., 0., 0.,  ..., 0., 0., 0.],\n",
      "          [0., 0., 0.,  ..., 0., 0., 0.],\n",
      "          [0., 0., 0.,  ..., 0., 0., 0.]]],\n",
      "\n",
      "\n",
      "        ...,\n",
      "\n",
      "\n",
      "        [[[0., 0., 0.,  ..., 0., 0., 0.],\n",
      "          [0., 0., 0.,  ..., 0., 0., 0.],\n",
      "          [0., 0., 0.,  ..., 0., 0., 0.],\n",
      "          ...,\n",
      "          [0., 0., 0.,  ..., 0., 0., 0.],\n",
      "          [0., 0., 0.,  ..., 0., 0., 0.],\n",
      "          [0., 0., 0.,  ..., 0., 0., 0.]]],\n",
      "\n",
      "\n",
      "        [[[0., 0., 0.,  ..., 0., 0., 0.],\n",
      "          [0., 0., 0.,  ..., 0., 0., 0.],\n",
      "          [0., 0., 0.,  ..., 0., 0., 0.],\n",
      "          ...,\n",
      "          [0., 0., 0.,  ..., 0., 0., 0.],\n",
      "          [0., 0., 0.,  ..., 0., 0., 0.],\n",
      "          [0., 0., 0.,  ..., 0., 0., 0.]]],\n",
      "\n",
      "\n",
      "        [[[0., 0., 0.,  ..., 0., 0., 0.],\n",
      "          [0., 0., 0.,  ..., 0., 0., 0.],\n",
      "          [0., 0., 0.,  ..., 0., 0., 0.],\n",
      "          ...,\n",
      "          [0., 0., 0.,  ..., 0., 0., 0.],\n",
      "          [0., 0., 0.,  ..., 0., 0., 0.],\n",
      "          [0., 0., 0.,  ..., 0., 0., 0.]]]])\n",
      "tensor([9, 4, 4, 4, 3, 8, 6, 0, 4, 4])\n"
     ]
    }
   ],
   "source": [
    "for images, labels in trainloader:\n",
    "    print(images)\n",
    "    print(labels)\n",
    "    break\n"
   ]
  },
  {
   "cell_type": "markdown",
   "id": "6cc46681",
   "metadata": {},
   "source": [
    "Note that `images` is a tensor of input data points from the first batch, while `labels` is a tensor of the labels."
   ]
  },
  {
   "cell_type": "code",
   "execution_count": 18,
   "id": "e98971e0",
   "metadata": {},
   "outputs": [
    {
     "data": {
      "text/plain": [
       "tensor([9, 4, 4, 4, 3, 8, 6, 0, 4, 4])"
      ]
     },
     "execution_count": 18,
     "metadata": {},
     "output_type": "execute_result"
    }
   ],
   "source": [
    "labels"
   ]
  },
  {
   "cell_type": "markdown",
   "id": "0bdeac8c",
   "metadata": {},
   "source": [
    "This data happens to be from images of digits, so we can visualize each input data point and its label as follows. Mess around with the `i` value to see different data points in this batch."
   ]
  },
  {
   "cell_type": "code",
   "execution_count": 19,
   "id": "f44821af",
   "metadata": {},
   "outputs": [
    {
     "data": {
      "text/plain": [
       "Text(0.5, 1.0, 'This is a 9')"
      ]
     },
     "execution_count": 19,
     "metadata": {},
     "output_type": "execute_result"
    },
    {
     "data": {
      "image/png": "[encoded data removed]",
      "text/plain": [
       "<Figure size 432x288 with 1 Axes>"
      ]
     },
     "metadata": {
      "needs_background": "light"
     },
     "output_type": "display_data"
    }
   ],
   "source": [
    "i = 0 #<---- this number can be from 0 to 9, and will show different data points\n",
    "      #      Notice that the index i is not the same as the label of the integer in the pic.\n",
    "\n",
    "X = images[i]\n",
    "y = labels[i].item()\n",
    "\n",
    "plt.imshow(X.view(28,28))\n",
    "plt.title('This is a ' + str(y))"
   ]
  },
  {
   "cell_type": "markdown",
   "id": "4ed6e117",
   "metadata": {},
   "source": [
    "For our data set, we will simply flatten each image into a vector to pass into the neural network.  That means that because each image is $28 \\times 28$ pixels, we will end up with a flattened data point of size 784. The code below is taking each image from the batch, flattening it to a vector, and returning the 10 data points in the batch as below"
   ]
  },
  {
   "cell_type": "code",
   "execution_count": 20,
   "id": "93138e7e",
   "metadata": {},
   "outputs": [
    {
     "name": "stdout",
     "output_type": "stream",
     "text": [
      "tensor([[0., 0., 0.,  ..., 0., 0., 0.],\n",
      "        [0., 0., 0.,  ..., 0., 0., 0.],\n",
      "        [0., 0., 0.,  ..., 0., 0., 0.],\n",
      "        ...,\n",
      "        [0., 0., 0.,  ..., 0., 0., 0.],\n",
      "        [0., 0., 0.,  ..., 0., 0., 0.],\n",
      "        [0., 0., 0.,  ..., 0., 0., 0.]])\n",
      "torch.Size([10, 784])\n"
     ]
    }
   ],
   "source": [
    "images_flat = images.view(images.shape[0], -1)\n",
    "print(images_flat)\n",
    "print(images_flat.shape)"
   ]
  },
  {
   "cell_type": "markdown",
   "id": "1c5fd52b",
   "metadata": {},
   "source": [
    "Ok, so now we can actually train our model on MNIST! \n",
    "\n",
    "&#9989; **<font color=red>Do this:</font>** For the code below, sketch the diagram for the model we've built. "
   ]
  },
  {
   "cell_type": "code",
   "execution_count": 21,
   "id": "cd4f9567",
   "metadata": {},
   "outputs": [
    {
     "name": "stdout",
     "output_type": "stream",
     "text": [
      "Sequential(\n",
      "  (0): Linear(in_features=784, out_features=128, bias=True)\n",
      "  (1): ReLU()\n",
      "  (2): Linear(in_features=128, out_features=64, bias=True)\n",
      "  (3): ReLU()\n",
      "  (4): Linear(in_features=64, out_features=10, bias=True)\n",
      "  (5): LogSoftmax(dim=1)\n",
      ")\n"
     ]
    }
   ],
   "source": [
    "input_size = 784\n",
    "hidden_sizes = [128, 64]\n",
    "output_size = 10\n",
    "\n",
    "model = nn.Sequential(nn.Linear(input_size, hidden_sizes[0]),\n",
    "                      nn.ReLU(),\n",
    "                      nn.Linear(hidden_sizes[0], hidden_sizes[1]),\n",
    "                      nn.ReLU(),\n",
    "                      nn.Linear(hidden_sizes[1], output_size),\n",
    "                      nn.LogSoftmax(dim=1))\n",
    "\n",
    "print(model)"
   ]
  },
  {
   "cell_type": "markdown",
   "id": "7c2eefdb",
   "metadata": {},
   "source": [
    "Now you can run the code below to train your model! \n",
    "\n",
    "**<font color=red>Warning:</font>** This code can be pretty slow.  On my desktop, it took about 3 minutes.  You can try things like increasing the number of epochs, but note that this will also increase the running time. "
   ]
  },
  {
   "cell_type": "code",
   "execution_count": 22,
   "id": "05030dfd",
   "metadata": {},
   "outputs": [
    {
     "name": "stdout",
     "output_type": "stream",
     "text": [
      "Training loss: 1.1816583968140184\n",
      "Training loss: 0.3872271334218482\n",
      "Training loss: 0.31572842933842915\n",
      "Training loss: 0.27746800855500625\n",
      "Training loss: 0.2481901665062954\n",
      "Wall time: 3min 24s\n"
     ]
    }
   ],
   "source": [
    "%%time \n",
    "\n",
    "# Define the loss\n",
    "criterion = nn.NLLLoss()\n",
    "optimizer = optim.SGD(model.parameters(), lr=0.003)\n",
    "\n",
    "epochs = 5\n",
    "for e in range(epochs):\n",
    "    running_loss = 0\n",
    "    for images, labels in trainloader:\n",
    "        # Flatten MNIST images into a 784 long vector\n",
    "        images = images.view(images.shape[0], -1)\n",
    "    \n",
    "        # Training pass\n",
    "        optimizer.zero_grad()\n",
    "        \n",
    "        output = model(images)\n",
    "        loss = criterion(output, labels)\n",
    "        loss.backward()\n",
    "        optimizer.step()\n",
    "        \n",
    "        running_loss += loss.item()\n",
    "    else:\n",
    "        print(f\"Training loss: {running_loss/len(trainloader)}\")"
   ]
  },
  {
   "cell_type": "markdown",
   "id": "e9890b6a",
   "metadata": {},
   "source": [
    "We can then look at what sorts of predictions we have for new data points. "
   ]
  },
  {
   "cell_type": "code",
   "execution_count": 23,
   "id": "a04f7a3f",
   "metadata": {},
   "outputs": [],
   "source": [
    "# This function is just for drawing.  As with the rest of this \n",
    "# tutorial, the code is adapted heavily from \n",
    "# https://github.com/amitrajitbose/handwritten-digit-recognition \n",
    "\n",
    "def view_classify(img, ps):\n",
    "    ''' Function for viewing an image and it's predicted classes.\n",
    "    '''\n",
    "    ps = ps.data.numpy().squeeze()\n",
    "\n",
    "    fig, (ax1, ax2) = plt.subplots(figsize=(6,9), ncols=2)\n",
    "    ax1.imshow(img.resize_(1, 28, 28).numpy().squeeze())\n",
    "    ax1.axis('off')\n",
    "    ax2.barh(np.arange(10), ps)\n",
    "    ax2.set_aspect(0.1)\n",
    "    ax2.set_yticks(np.arange(10))\n",
    "    ax2.set_yticklabels(np.arange(10))\n",
    "    ax2.set_title('Class Probability')\n",
    "    ax2.set_xlim(0, 1.1)\n",
    "    plt.tight_layout()\n",
    "\n"
   ]
  },
  {
   "cell_type": "markdown",
   "id": "628765ea",
   "metadata": {},
   "source": [
    "The code below will show the image, and the probabilities for each class label. The actual prediction comes from the label with the highest probability."
   ]
  },
  {
   "cell_type": "code",
   "execution_count": 24,
   "id": "f091ac3e",
   "metadata": {
    "scrolled": false
   },
   "outputs": [
    {
     "name": "stdout",
     "output_type": "stream",
     "text": [
      "Predicted Digit = 4\n"
     ]
    },
    {
     "data": {
      "image/png": "[encoded data removed]",
      "text/plain": [
       "<Figure size 432x648 with 2 Axes>"
      ]
     },
     "metadata": {
      "needs_background": "light"
     },
     "output_type": "display_data"
    }
   ],
   "source": [
    "i = 4 #<--- Mess with this number to see different data points and their predictions\n",
    "\n",
    "images, labels = next(iter(testloader))\n",
    "\n",
    "img = images[i].view(1, 784)\n",
    "with torch.no_grad():\n",
    "    logps = model(img)\n",
    "\n",
    "ps = torch.exp(logps)\n",
    "probab = list(ps.numpy()[0])\n",
    "print(\"Predicted Digit =\", probab.index(max(probab)))\n",
    "view_classify(img.view(1, 28, 28), ps)\n",
    "# plt.savefig('MNIST-ExamplePrediction.png',bbox_inches = 'tight')"
   ]
  },
  {
   "cell_type": "markdown",
   "id": "c3a81c1e",
   "metadata": {},
   "source": [
    "The code below will show the count  of correct predictions. "
   ]
  },
  {
   "cell_type": "code",
   "execution_count": 25,
   "id": "e85fbf12",
   "metadata": {},
   "outputs": [
    {
     "name": "stdout",
     "output_type": "stream",
     "text": [
      "Number Of Images Tested = 10000\n",
      "\n",
      "Model Accuracy = 0.9361\n"
     ]
    }
   ],
   "source": [
    "correct_count, all_count = 0, 0\n",
    "for images,labels in testloader:\n",
    "  for i in range(len(labels)):\n",
    "    img = images[i].view(1, 784)\n",
    "    # Turn off gradients to speed up this part\n",
    "    with torch.no_grad():\n",
    "        logps = model(img)\n",
    "\n",
    "    # Output of the network are log-probabilities, \n",
    "    # need to take exponential for probabilities\n",
    "    ps = torch.exp(logps)\n",
    "    probab = list(ps.numpy()[0])\n",
    "    pred_label = probab.index(max(probab))\n",
    "    true_label = labels.numpy()[i]\n",
    "    if(true_label == pred_label):\n",
    "      correct_count += 1\n",
    "    all_count += 1\n",
    "\n",
    "print(\"Number Of Images Tested =\", all_count)\n",
    "print(\"\\nModel Accuracy =\", (correct_count/all_count))\n",
    "\n"
   ]
  },
  {
   "cell_type": "markdown",
   "id": "c1e57ff3",
   "metadata": {},
   "source": [
    "# Still have time? \n",
    "\n",
    "<img src=\"https://i.imgur.com/BV3ntdZ.png\" alt=\"Examples from FashionMNIST\" width=\"600\"/>\n",
    "\n",
    "Try building a neural net to predict labels on the `FashionMNIST` data set. "
   ]
  },
  {
   "cell_type": "code",
   "execution_count": 26,
   "id": "50940564",
   "metadata": {},
   "outputs": [],
   "source": [
    "import torch\n",
    "from torch import nn\n",
    "from torch.utils.data import DataLoader\n",
    "from torchvision import datasets\n",
    "from torchvision.transforms import ToTensor\n"
   ]
  },
  {
   "cell_type": "code",
   "execution_count": 27,
   "id": "8d7aaae3",
   "metadata": {},
   "outputs": [
    {
     "name": "stdout",
     "output_type": "stream",
     "text": [
      "Downloading http://fashion-mnist.s3-website.eu-central-1.amazonaws.com/train-images-idx3-ubyte.gz\n",
      "Downloading http://fashion-mnist.s3-website.eu-central-1.amazonaws.com/train-images-idx3-ubyte.gz to data\\FashionMNIST\\raw\\train-images-idx3-ubyte.gz\n"
     ]
    },
    {
     "name": "stderr",
     "output_type": "stream",
     "text": [
      "100%|█████████████████████████████████████████████████████████████████| 26421880/26421880 [00:04<00:00, 5320770.53it/s]\n"
     ]
    },
    {
     "name": "stdout",
     "output_type": "stream",
     "text": [
      "Extracting data\\FashionMNIST\\raw\\train-images-idx3-ubyte.gz to data\\FashionMNIST\\raw\n",
      "\n",
      "Downloading http://fashion-mnist.s3-website.eu-central-1.amazonaws.com/train-labels-idx1-ubyte.gz\n",
      "Downloading http://fashion-mnist.s3-website.eu-central-1.amazonaws.com/train-labels-idx1-ubyte.gz to data\\FashionMNIST\\raw\\train-labels-idx1-ubyte.gz\n"
     ]
    },
    {
     "name": "stderr",
     "output_type": "stream",
     "text": [
      "100%|████████████████████████████████████████████████████████████████████████| 29515/29515 [00:00<00:00, 246801.97it/s]\n"
     ]
    },
    {
     "name": "stdout",
     "output_type": "stream",
     "text": [
      "Extracting data\\FashionMNIST\\raw\\train-labels-idx1-ubyte.gz to data\\FashionMNIST\\raw\n",
      "\n",
      "Downloading http://fashion-mnist.s3-website.eu-central-1.amazonaws.com/t10k-images-idx3-ubyte.gz\n",
      "Downloading http://fashion-mnist.s3-website.eu-central-1.amazonaws.com/t10k-images-idx3-ubyte.gz to data\\FashionMNIST\\raw\\t10k-images-idx3-ubyte.gz\n"
     ]
    },
    {
     "name": "stderr",
     "output_type": "stream",
     "text": [
      "100%|███████████████████████████████████████████████████████████████████| 4422102/4422102 [00:01<00:00, 2828283.95it/s]\n"
     ]
    },
    {
     "name": "stdout",
     "output_type": "stream",
     "text": [
      "Extracting data\\FashionMNIST\\raw\\t10k-images-idx3-ubyte.gz to data\\FashionMNIST\\raw\n",
      "\n",
      "Downloading http://fashion-mnist.s3-website.eu-central-1.amazonaws.com/t10k-labels-idx1-ubyte.gz\n",
      "Downloading http://fashion-mnist.s3-website.eu-central-1.amazonaws.com/t10k-labels-idx1-ubyte.gz to data\\FashionMNIST\\raw\\t10k-labels-idx1-ubyte.gz\n"
     ]
    },
    {
     "name": "stderr",
     "output_type": "stream",
     "text": [
      "100%|████████████████████████████████████████████████████████████████████████| 5148/5148 [00:00<00:00, 10170643.90it/s]\n"
     ]
    },
    {
     "name": "stdout",
     "output_type": "stream",
     "text": [
      "Extracting data\\FashionMNIST\\raw\\t10k-labels-idx1-ubyte.gz to data\\FashionMNIST\\raw\n",
      "\n"
     ]
    }
   ],
   "source": [
    "# Download training data.\n",
    "training_data = datasets.FashionMNIST(\n",
    "    root=\"data\",\n",
    "    train=True,\n",
    "    download=True,\n",
    "    transform=ToTensor(),\n",
    ")\n",
    "\n",
    "# Download test data.\n",
    "test_data = datasets.FashionMNIST(\n",
    "    root=\"data\",\n",
    "    train=False,\n",
    "    download=True,\n",
    "    transform=ToTensor(),\n",
    ")"
   ]
  },
  {
   "cell_type": "markdown",
   "id": "92d4933a",
   "metadata": {},
   "source": [
    "The labels are stored as digits, but below is the map from the documentation. "
   ]
  },
  {
   "cell_type": "code",
   "execution_count": 28,
   "id": "77405c6f",
   "metadata": {},
   "outputs": [],
   "source": [
    "labels_map = {0: 'T-shirt/top', 1: 'Trouser', 2: 'Pullover', 3: 'Dress', 4: 'Coat', 5: 'Sandal', 6: 'Shirt', 7: 'Sneaker', 8: 'Bag', 9: 'Ankle boot'}"
   ]
  },
  {
   "cell_type": "markdown",
   "id": "001be851",
   "metadata": {},
   "source": [
    "This code will show you a random collection of sample images. "
   ]
  },
  {
   "cell_type": "code",
   "execution_count": 29,
   "id": "c0797f6f",
   "metadata": {},
   "outputs": [
    {
     "data": {
      "image/png": "[encoded data removed]",
      "text/plain": [
       "<Figure size 1440x720 with 25 Axes>"
      ]
     },
     "metadata": {
      "needs_background": "light"
     },
     "output_type": "display_data"
    }
   ],
   "source": [
    "# This code will show you a random collection of sample images.\n",
    "fig, ax = plt.subplots(nrows=5, ncols=5, figsize = (20,10))\n",
    "for row in ax:\n",
    "    for col in row:\n",
    "        entry = np.random.randint(100)\n",
    "        col.imshow(training_data.data[entry])\n",
    "        col.axis('off')\n",
    "        col.set_title(labels_map[training_data.targets[entry].item()])\n",
    "        \n",
    "# plt.savefig('FashionMNIST-Examples.png', bbox_inches = 'tight')"
   ]
  },
  {
   "cell_type": "code",
   "execution_count": 30,
   "id": "adb940cb",
   "metadata": {},
   "outputs": [],
   "source": [
    "# Your code here"
   ]
  },
  {
   "cell_type": "markdown",
   "id": "66f79113",
   "metadata": {},
   "source": [
    "\n",
    "\n",
    "-----\n",
    "### Congratulations, we're done!\n",
    "Written by Dr. Liz Munch, Michigan State University\n",
    "\n",
    "<a rel=\"license\" href=\"http://creativecommons.org/licenses/by-nc/4.0/\"><img alt=\"Creative Commons License\" style=\"border-width:0\" src=\"https://i.creativecommons.org/l/by-nc/4.0/88x31.png\" /></a><br />This work is licensed under a <a rel=\"license\" href=\"http://creativecommons.org/licenses/by-nc/4.0/\">Creative Commons Attribution-NonCommercial 4.0 International License</a>."
   ]
  }
 ],
 "metadata": {
  "kernelspec": {
   "display_name": "Python 3",
   "language": "python",
   "name": "python3"
  },
  "language_info": {
   "codemirror_mode": {
    "name": "ipython",
    "version": 3
   },
   "file_extension": ".py",
   "mimetype": "text/x-python",
   "name": "python",
   "nbconvert_exporter": "python",
   "pygments_lexer": "ipython3",
   "version": "3.8.8"
  },
  "vscode": {
   "interpreter": {
    "hash": "916dbcbb3f70747c44a77c7bcd40155683ae19c65e1c03b4aa3499c5328201f1"
   }
  }
 },
 "nbformat": 4,
 "nbformat_minor": 5
}
